{
 "cells": [
  {
   "cell_type": "code",
   "execution_count": 1,
   "metadata": {
    "ExecuteTime": {
     "end_time": "2021-06-24T13:12:49.827999Z",
     "start_time": "2021-06-24T13:12:48.804290Z"
    }
   },
   "outputs": [
    {
     "data": {
      "text/html": [
       "<style>.container { width:100% !important; }</style>"
      ],
      "text/plain": [
       "<IPython.core.display.HTML object>"
      ]
     },
     "metadata": {},
     "output_type": "display_data"
    }
   ],
   "source": [
    "%matplotlib inline\n",
    "%run 'bin/notebook_utils.py'\n",
    "%run 'bin/plot_utilization.py'\n",
    "import matplotlib.ticker as mticker\n",
    "import radical.entk as re"
   ]
  },
  {
   "cell_type": "code",
   "execution_count": 2,
   "metadata": {
    "ExecuteTime": {
     "end_time": "2021-06-24T13:12:50.723313Z",
     "start_time": "2021-06-24T13:12:49.830214Z"
    }
   },
   "outputs": [
    {
     "name": "stdout",
     "output_type": "stream",
     "text": [
      "\r\n",
      "  python               : /Users/mturilli/.virtualenvs/analytics/bin/python3\r\n",
      "  pythonpath           : \r\n",
      "  version              : 3.8.10\r\n",
      "  virtualenv           : /Users/mturilli/.virtualenvs/analytics\r\n",
      "\r\n",
      "  radical.analytics    : 1.5.0\r\n",
      "  radical.entk         : 1.6.5\r\n",
      "  radical.gtod         : 1.5.0\r\n",
      "  radical.pilot        : 1.6.6\r\n",
      "  radical.saga         : 1.6.6\r\n",
      "  radical.utils        : 1.6.6\r\n",
      "\r\n"
     ]
    }
   ],
   "source": [
    "! radical-stack"
   ]
  },
  {
   "cell_type": "code",
   "execution_count": 3,
   "metadata": {
    "ExecuteTime": {
     "end_time": "2021-06-24T13:12:50.731059Z",
     "start_time": "2021-06-24T13:12:50.727110Z"
    }
   },
   "outputs": [],
   "source": [
    "suds = ['re.session.login1.lei.018775.0008']\n",
    "sdir = '../data/raw/incite2021/'\n",
    "sids = [sdir+s for s in suds]"
   ]
  },
  {
   "cell_type": "code",
   "execution_count": 4,
   "metadata": {
    "ExecuteTime": {
     "end_time": "2021-06-24T13:12:51.057767Z",
     "start_time": "2021-06-24T13:12:50.734708Z"
    }
   },
   "outputs": [],
   "source": [
    "%%capture capt\n",
    "\n",
    "ss = {}\n",
    "for sid in suds:\n",
    "    sp = sdir+sid\n",
    "    ss[sid] = {'s': ra.Session(sp, 'radical.pilot')}\n",
    "    ss[sid].update({'p': ss[sid]['s'].filter(etype='pilot'   , inplace=False),\n",
    "                    't': ss[sid]['s'].filter(etype='task'    , inplace=False),\n",
    "                    'w': ss[sid]['s'].filter(etype='pipeline', inplace=False)})"
   ]
  },
  {
   "cell_type": "code",
   "execution_count": 5,
   "metadata": {
    "ExecuteTime": {
     "end_time": "2021-06-24T13:12:51.068908Z",
     "start_time": "2021-06-24T13:12:51.060262Z"
    }
   },
   "outputs": [],
   "source": [
    "for sid in suds:\n",
    "    ss[sid].update({'sid'     : ss[sid]['s'].uid,\n",
    "                    'pid'     : ss[sid]['p'].list('uid'),\n",
    "                    'npilot'  : len(ss[sid]['p'].get()),\n",
    "                    'lm'      : ss[sid]['s'].get(etype='pilot')[0].cfg['agent_launch_method'],\n",
    "                    'npact'   : len(ss[sid]['p'].timestamps(state='PMGR_ACTIVE')),\n",
    "                    'nunit'   : len(ss[sid]['t'].get()),\n",
    "                    'nudone'  : len(ss[sid]['t'].timestamps(state='DONE')),\n",
    "                    'nufail'  : len(ss[sid]['t'].timestamps(state='FAILED')),\n",
    "                    'hostid'  : ss[sid]['s'].get(etype='pilot')[0].cfg['hostid'],\n",
    "                    'gpu_node': ss[sid]['s'].get(etype='pilot')[0].cfg['gpus_per_node']})\n",
    "    ss[sid].update({'pres'    : ss[sid]['p'].get(uid=ss[sid]['pid'])[0].description['resource'],\n",
    "                    'ncores'  : ss[sid]['p'].get(uid=ss[sid]['pid'])[0].description['cores'],\n",
    "                    'ngpus'   : ss[sid]['p'].get(uid=ss[sid]['pid'])[0].description['gpus']})\n",
    "    ss[sid].update({'nnodes'  : int(ss[sid]['ngpus']/ss[sid]['gpu_node'])})"
   ]
  },
  {
   "cell_type": "code",
   "execution_count": 6,
   "metadata": {
    "ExecuteTime": {
     "end_time": "2021-06-24T13:12:51.090609Z",
     "start_time": "2021-06-24T13:12:51.070791Z"
    }
   },
   "outputs": [
    {
     "data": {
      "text/html": [
       "<div>\n",
       "<style scoped>\n",
       "    .dataframe tbody tr th:only-of-type {\n",
       "        vertical-align: middle;\n",
       "    }\n",
       "\n",
       "    .dataframe tbody tr th {\n",
       "        vertical-align: top;\n",
       "    }\n",
       "\n",
       "    .dataframe thead th {\n",
       "        text-align: right;\n",
       "    }\n",
       "</style>\n",
       "<table border=\"1\" class=\"dataframe\">\n",
       "  <thead>\n",
       "    <tr style=\"text-align: right;\">\n",
       "      <th></th>\n",
       "      <th>session</th>\n",
       "      <th>resource</th>\n",
       "      <th>pilot_lm</th>\n",
       "      <th>pilots</th>\n",
       "      <th>ps_active</th>\n",
       "      <th>cores</th>\n",
       "      <th>gpus</th>\n",
       "      <th>nodes</th>\n",
       "      <th>tasks</th>\n",
       "      <th>ts_done</th>\n",
       "      <th>ts_failed</th>\n",
       "    </tr>\n",
       "  </thead>\n",
       "  <tbody>\n",
       "    <tr>\n",
       "      <th>0</th>\n",
       "      <td>re.session.login1.lei.018775.0008</td>\n",
       "      <td>ornl.summit</td>\n",
       "      <td>JSRUN</td>\n",
       "      <td>1</td>\n",
       "      <td>1</td>\n",
       "      <td>2688.0</td>\n",
       "      <td>384</td>\n",
       "      <td>64</td>\n",
       "      <td>2</td>\n",
       "      <td>2</td>\n",
       "      <td>0</td>\n",
       "    </tr>\n",
       "  </tbody>\n",
       "</table>\n",
       "</div>"
      ],
      "text/plain": [
       "                             session     resource pilot_lm  pilots  ps_active   cores  gpus  nodes  tasks  ts_done  ts_failed\n",
       "0  re.session.login1.lei.018775.0008  ornl.summit    JSRUN       1          1  2688.0   384     64      2        2          0"
      ]
     },
     "execution_count": 6,
     "metadata": {},
     "output_type": "execute_result"
    }
   ],
   "source": [
    "info = []\n",
    "for sid in suds:\n",
    "    info.append({'session'  : sid,\n",
    "                 'resource' : ss[sid]['pres'],\n",
    "                 'pilot_lm' : ss[sid]['lm'], \n",
    "                 'pilots'   : ss[sid]['npilot'],\n",
    "                 'ps_active': ss[sid]['npact'],\n",
    "                 'cores'    : ss[sid]['ncores']/4, \n",
    "                 'gpus'     : ss[sid]['ngpus'], \n",
    "                 'nodes'    : ss[sid]['nnodes'], \n",
    "                 'tasks'    : ss[sid]['nunit'], \n",
    "                 'ts_done'  : ss[sid]['nudone'],  \n",
    "                 'ts_failed': ss[sid]['nufail']})\n",
    "\n",
    "df_info = pd.DataFrame(info) \n",
    "df_info"
   ]
  },
  {
   "cell_type": "code",
   "execution_count": 7,
   "metadata": {
    "ExecuteTime": {
     "end_time": "2021-06-24T13:12:51.109112Z",
     "start_time": "2021-06-24T13:12:51.093088Z"
    }
   },
   "outputs": [],
   "source": [
    "for sid in suds:\n",
    "    w  = ss[sid]['w']\n",
    "    t  = ss[sid]['t']\n",
    "    p  = ss[sid]['p']\n",
    "    p0 = p.get(uid=ss[sid]['pid'])[0]\n",
    "\n",
    "    ss[sid].update({\n",
    "      'ttc'  : p0.duration(event=[ {ru.EVENT: 'state'        , ru.STATE: rp.NEW                }, \n",
    "                                  [{ru.EVENT: 'state'        , ru.STATE: rp.DONE               },\n",
    "                                   {ru.EVENT: 'state'        , ru.STATE: rp.CANCELED           },\n",
    "                                   {ru.EVENT: 'state'        , ru.STATE: rp.FAILED             }]]),\n",
    "      'ttq_p': p0.duration(event=[ {ru.EVENT: 'state'        , ru.STATE: rp.PMGR_ACTIVE_PENDING}, \n",
    "                                   {ru.EVENT: 'state'        , ru.STATE: rp.PMGR_ACTIVE        } ]),\n",
    "      'ttx_w': w.duration( event=[ {ru.EVENT: 'state'        , ru.STATE: re.states.SCHEDULING  },\n",
    "                                   {ru.EVENT: 'state'        , ru.STATE: re.states.DONE        } ]),\n",
    "      'ttx_u': t.duration( event=[ {ru.EVENT: 'task_exec_start', ru.STATE: None                  },      \n",
    "                                   {ru.EVENT: 'task_exec_stop' , ru.STATE: None                  } ]),\n",
    "      'ttx_p': p0.duration(event=[ {ru.EVENT: 'state'        , ru.STATE: rp.PMGR_ACTIVE        },\n",
    "                                  [{ru.EVENT: 'state'        , ru.STATE: rp.DONE               },\n",
    "                                   {ru.EVENT: 'state'        , ru.STATE: rp.FAILED             },\n",
    "                                   {ru.EVENT: 'state'        , ru.STATE: rp.CANCELED           }]]),\n",
    "      'sub_t': t.duration( event=[ {ru.EVENT: 'state'        , ru.STATE: re.states.SCHEDULING  },\n",
    "                                   {ru.EVENT: 'state'        , ru.STATE: re.states.SUBMITTING  } ]),\n",
    "      'ttx_t': t.duration( event=[ {ru.EVENT: 'state'        , ru.STATE: re.states.SUBMITTING  },\n",
    "                                  [{ru.EVENT: 'state'        , ru.STATE: re.states.COMPLETED   },\n",
    "                                   {ru.EVENT: 'state'        , ru.STATE: re.states.CANCELED    },\n",
    "                                   {ru.EVENT: 'state'        , ru.STATE: re.states.FAILED      }]])})\n",
    "    \n",
    "    ss[sid].update({'ovh_rtc': ss[sid]['ttx_w'] - ss[sid]['ttx_u']})"
   ]
  },
  {
   "cell_type": "code",
   "execution_count": 8,
   "metadata": {
    "ExecuteTime": {
     "end_time": "2021-06-24T13:12:53.168806Z",
     "start_time": "2021-06-24T13:12:51.113516Z"
    }
   },
   "outputs": [
    {
     "data": {
      "image/png": "[encoded data removed]",
      "text/plain": [
       "<Figure size 432x288 with 1 Axes>"
      ]
     },
     "metadata": {},
     "output_type": "display_data"
    }
   ],
   "source": [
    "skip = []\n",
    "nsids = len(suds) - len(skip)\n",
    "\n",
    "fwidth = 6*nsids\n",
    "fhight = 4\n",
    "fig, axarr = plt.subplots(1, nsids, sharey=True, figsize=(fwidth, fhight))\n",
    "\n",
    "i = 0\n",
    "j = 'a'\n",
    "for sid in suds:\n",
    "\n",
    "    if sid in skip:\n",
    "        continue\n",
    "\n",
    "    if len(suds) > 1:\n",
    "        ax = axarr[i]\n",
    "    else:\n",
    "        ax = axarr\n",
    "    \n",
    "    ax.title.set_text('%s/%s Tasks/Nodes' % (ss[sid]['nunit'], int(ss[sid]['nnodes'])))\n",
    "\n",
    "    ax.bar(x = 'OVH', height = ss[sid]['ovh_rtc'], color = tableau20[1])\n",
    "    ax.bar(x = 'TTX', height = ss[sid]['ttx_t']  , color = tableau20[3])\n",
    "\n",
    "    ax.set_xlabel('(%s)' % j, labelpad=45)\n",
    "\n",
    "    i = i+1\n",
    "    j = chr(ord(j) + 1)\n",
    "\n",
    "fig.text( -0.05,  0.5 , 'Time (s)', va='center', rotation='vertical', fontsize=24)\n",
    "fig.text(  0.5 , -0.05, 'Metric'  , ha='center', fontsize=24)\n",
    "fig.legend(['RADICAL Cybertools overhead (OVH)', 'Workflow time to completion (TTX)'], loc='upper center', \n",
    "           bbox_to_anchor=(0.52, 1.35), fontsize=24, ncol=1)\n",
    "    \n",
    "plt.savefig('figures/incite_2021_ovh_ttx.pdf', dpi=300, bbox_inches='tight')\n",
    "plt.savefig('figures/incite_2021_ovh_ttx.png', dpi=300, bbox_inches='tight')"
   ]
  },
  {
   "cell_type": "code",
   "execution_count": 9,
   "metadata": {
    "ExecuteTime": {
     "end_time": "2021-06-24T13:12:53.175068Z",
     "start_time": "2021-06-24T13:12:53.171782Z"
    }
   },
   "outputs": [],
   "source": [
    "metrics_default = [\n",
    "\n",
    "        # pilot overheads (global)\n",
    "        #['Pilot Startup',     ['boot', 'setup_1']],\n",
    "        #['Pilot Termination', ['term' ]],\n",
    "\n",
    "        # derived pilot durations\n",
    "        #['Agent Nodes',       ['agent']],\n",
    "        #['Warmup',            ['warm' ]],\n",
    "        #['Draining',          ['drain']],\n",
    "        #['Idle',              ['idle' ]],\n",
    "\n",
    "        # unit durations (PRTE)\n",
    "        #['Prepare Exec',      ['exec_queue', 'exec_prep']],\n",
    "        #['Exec RP',           ['exec_rp', 'exec_sh', 'term_sh', 'term_rp']],\n",
    "        ['Exec Cmd',          ['exec_cmd']],\n",
    "        #['Unschedule',        ['unschedule']],\n",
    "]"
   ]
  },
  {
   "cell_type": "code",
   "execution_count": 10,
   "metadata": {
    "ExecuteTime": {
     "end_time": "2021-06-24T13:12:53.409625Z",
     "start_time": "2021-06-24T13:12:53.177430Z"
    }
   },
   "outputs": [],
   "source": [
    "%%capture capt\n",
    "\n",
    "# Remove cache to avoid reloading errors\n",
    "! rm -r ~/.radical/analytics\n",
    "\n",
    "# Skipe sessions we do not need to plot\n",
    "skip = []\n",
    "sids_pruned = np.setdiff1d(sids, skip)\n",
    "\n",
    "sobjs = ra.Experiment(sids_pruned, stype='radical.pilot')\n",
    "provided, consumed, stats_abs, stats_rel, info = sobjs.utilization(metrics=metrics_default)"
   ]
  },
  {
   "cell_type": "code",
   "execution_count": 11,
   "metadata": {
    "ExecuteTime": {
     "end_time": "2021-06-24T13:12:53.418054Z",
     "start_time": "2021-06-24T13:12:53.411995Z"
    }
   },
   "outputs": [],
   "source": [
    "# x-axis labels\n",
    "xkeys = list()\n",
    "\n",
    "# get the numbers we actually want to plot\n",
    "for session in sobjs.sessions:\n",
    "\n",
    "    n_units = len(session.get(etype='task'))\n",
    "    \n",
    "    p_size = 0\n",
    "    for pilot in session.get(etype='pilot'):\n",
    "        p_size += pilot.description['cores']\n",
    "\n",
    "    xkeys.append('%s / %s' % (n_units, p_size))\n",
    "\n",
    "# zero points to zero the axes of the plot.\n",
    "p_zeros = {}\n",
    "for session in sobjs.sessions:\n",
    "    for pilot in session.get(etype='pilot'):\n",
    "        p_zeros[session.uid] = pilot.timestamps(event={ru.EVENT: 'bootstrap_0_start'})[0]\n",
    "\n",
    "def update_ticks(x, pos):\n",
    "    return int(x/168)"
   ]
  },
  {
   "cell_type": "code",
   "execution_count": 12,
   "metadata": {
    "ExecuteTime": {
     "end_time": "2021-06-24T13:12:55.209286Z",
     "start_time": "2021-06-24T13:12:53.420407Z"
    }
   },
   "outputs": [
    {
     "data": {
      "image/png": "[encoded data removed]",
      "text/plain": [
       "<Figure size 864x576 with 1 Axes>"
      ]
     },
     "metadata": {},
     "output_type": "display_data"
    }
   ],
   "source": [
    "# # core/gpu utilization over time (box plot)\n",
    "\n",
    "# fwidth = 36\n",
    "# fhight = 4\n",
    "# fig, axarr = plt.subplots(1, len(suds), sharex='col', figsize=(fwidth, fhight))  # , sharey='row')\n",
    "\n",
    "# i = 0\n",
    "# j = 'a'\n",
    "# for sid in suds:\n",
    "\n",
    "#     ax = axarr[i]\n",
    "#     cmap = mpl.cm.get_cmap('tab20c')\n",
    "\n",
    "#     step = 1.0 / (len(metrics_default) + 1)\n",
    "#     this = step / 1.0\n",
    "#     legend = list()\n",
    "\n",
    "#     x_min = None\n",
    "#     x_max = None\n",
    "#     y_min = None\n",
    "#     y_max = None\n",
    "    \n",
    "#     ax.set_title('%s/%s Tasks/Nodes' % (ss[sid]['nunit'], int(ss[sid]['nnodes'])), fontdict={'fontsize': 30})\n",
    "\n",
    "#     for metric in metrics_default:\n",
    "\n",
    "#         color = cmap(this)\n",
    "#         this += step\n",
    "\n",
    "#         legend.append(mpl.lines.Line2D([0], [0], color=color, lw=6))\n",
    "\n",
    "#         if isinstance(metric, list):\n",
    "#             name = metric[0]\n",
    "#             parts = metric[1]\n",
    "#         else:\n",
    "#             name = metric\n",
    "#             parts = [metric]\n",
    "\n",
    "#         for part in parts:\n",
    "#             for uid in consumed[sid][part]:\n",
    "#                 for block in consumed[sid][part][uid]:\n",
    "#                     orig_x = block[0]\n",
    "#                     orig_y = block[2] - 0.5\n",
    "#                     width = block[1] - block[0]\n",
    "#                     height = block[3] - block[2] + 1.0\n",
    "\n",
    "#                     if x_min is None:\n",
    "#                         x_min = orig_x\n",
    "#                     if x_max is None:\n",
    "#                         x_max = orig_x + width\n",
    "#                     if y_min is None:\n",
    "#                         y_min = orig_x\n",
    "#                     if y_max is None:\n",
    "#                         y_max = orig_x + height\n",
    "\n",
    "#                     x_min = min(x_min, orig_x)\n",
    "#                     y_min = min(y_min, orig_y)\n",
    "#                     x_max = max(x_max, orig_x + width)\n",
    "#                     y_max = max(y_max, orig_y + height)\n",
    "\n",
    "#                     patch = mpl.patches.Rectangle((orig_x, orig_y),\n",
    "#                                                   width, height,\n",
    "#                                                   facecolor=color,\n",
    "#                                                   edgecolor='black',\n",
    "#                                                   fill=True, lw=0.0)\n",
    "#                     ax.add_patch(patch)\n",
    "\n",
    "#     ax.set_xlim([x_min, x_max])\n",
    "#     ax.set_ylim([y_min, y_max])\n",
    "    \n",
    "#     ax.set_xlabel('(%s)' % j, labelpad=45)\n",
    "#     ax.yaxis.set_major_formatter(mticker.FuncFormatter(update_ticks))\n",
    "\n",
    "#     i = i+1\n",
    "#     j = chr(ord(j) + 1)\n",
    "\n",
    "# # Add common axes lables\n",
    "# fig.text(0.07,  0.5, 'Core ID' , va='center', rotation='vertical', fontsize=30)\n",
    "# fig.text(0.5 , -0.1, 'Time (s)', ha='center', fontsize=30)\n",
    "    \n",
    "# # Add legend\n",
    "# fig.legend(legend, [m[0] for m in metrics_default], loc='upper center', \n",
    "#            bbox_to_anchor=(0.45, 1.77), fontsize=30, ncol=4)\n",
    "\n",
    "# plt.savefig('figures/incite2021_inversions_jsrun.pdf', dpi=300, bbox_inches='tight')\n",
    "# plt.savefig('figures/incite2021_inversions_jsrun.png', dpi=300, bbox_inches='tight')\n",
    "\n",
    "splot = ['re.session.login1.lei.018775.0008']\n",
    "\n",
    "nsids = len(splot)\n",
    "\n",
    "fwidth = 12*nsids\n",
    "fhight = 8\n",
    "fig, axarr = plt.subplots(1, nsids, sharex='col', figsize=(fwidth, fhight))\n",
    "\n",
    "i = 0\n",
    "j = 'a'\n",
    "for sid in splot:\n",
    "    if nsids > 1:\n",
    "        ax = axarr[i]\n",
    "        ax.set_xlabel('(%s)' % j, labelpad=45)\n",
    "    else:\n",
    "        ax = axarr\n",
    "\n",
    "    cmap = mpl.cm.get_cmap('tab20c')\n",
    "\n",
    "    step = 1.0 / (len(metrics_default) + 1)\n",
    "    this = step / 1.0\n",
    "    legend = list()\n",
    "\n",
    "    x_min = None\n",
    "    x_max = None\n",
    "    y_min = None\n",
    "    y_max = None\n",
    "        \n",
    "    ax.set_title(\n",
    "        '%s/%s Tasks/Nodes' % (\n",
    "            ss[sid]['nunit'], \n",
    "            int(ss[sid]['nnodes'])), \n",
    "        fontdict={'fontsize': 30})\n",
    "\n",
    "    for metric in metrics_default:\n",
    "\n",
    "        color = tableau20[8] #cmap(this)\n",
    "        this += step\n",
    "\n",
    "        legend.append(mpl.lines.Line2D([0], [0], color=color, lw=6))\n",
    "\n",
    "        if isinstance(metric, list):\n",
    "            name = metric[0]\n",
    "            parts = metric[1]\n",
    "        else:\n",
    "            name = metric\n",
    "            parts = [metric]\n",
    "\n",
    "        for part in parts:\n",
    "            for uid in consumed[sid][part]:\n",
    "                for block in consumed[sid][part][uid]:\n",
    "                    orig_x = block[0] - p_zeros[sid]\n",
    "                    orig_y = block[2] - 0.5\n",
    "                    width = block[1] - block[0]\n",
    "                    height = block[3] - block[2] + 1.0\n",
    "\n",
    "                    if x_min is None:\n",
    "                        x_min = orig_x\n",
    "                    if x_max is None:\n",
    "                        x_max = orig_x + width\n",
    "                    if y_min is None:\n",
    "                        y_min = orig_x\n",
    "                    if y_max is None:\n",
    "                        y_max = orig_x + height\n",
    "\n",
    "                    x_min = min(x_min, orig_x)\n",
    "                    y_min = min(y_min, orig_y)\n",
    "                    x_max = max(x_max, orig_x + width)\n",
    "                    y_max = max(y_max, orig_y + height)\n",
    "\n",
    "                    patch = mpl.patches.Rectangle((orig_x, orig_y),\n",
    "                                                  width, height,\n",
    "                                                  facecolor=color,\n",
    "                                                  edgecolor='black',\n",
    "                                                  fill=True, lw=0.0)\n",
    "                    ax.add_patch(patch)\n",
    "\n",
    "    ax.set_xlim([x_min, x_max])\n",
    "    ax.set_ylim([y_min, y_max])\n",
    "    \n",
    "    # ax.set_xlabel('Time (s)', fontsize=30)\n",
    "    # ax.set_ylabel('Node', fontsize=30)\n",
    "    \n",
    "    ax.yaxis.set_major_formatter(mticker.FuncFormatter(update_ticks))\n",
    "\n",
    "    i = i+1\n",
    "    j = chr(ord(j) + 1)\n",
    "    \n",
    "# Add legend\n",
    "# ax.legend(legend, [m[0] for m in metrics_default], loc='upper center', fontsize=30, ncol=4, bbox_to_anchor=( -0.5, 1.35))\n",
    "fig.legend(['Task execution time on CPU cores or GPUs'], loc='upper center', bbox_to_anchor=(0.5, 1.05), fontsize=24, ncol=1)\n",
    "fig.text( 0.05,  0.5 , 'Node'    , va='center', rotation='vertical', fontsize=30)\n",
    "fig.text( 0.5 ,  0.02, 'Time (s)', ha='center', fontsize=30)\n",
    "\n",
    "plt.savefig('figures/incite_2021_ru.pdf', dpi=300, bbox_inches='tight')\n",
    "plt.savefig('figures/incite_2021_ru.png', dpi=300, bbox_inches='tight')"
   ]
  }
 ],
 "metadata": {
  "hide_input": false,
  "kernelspec": {
   "display_name": "Python 3",
   "language": "python",
   "name": "python3"
  },
  "language_info": {
   "codemirror_mode": {
    "name": "ipython",
    "version": 3
   },
   "file_extension": ".py",
   "mimetype": "text/x-python",
   "name": "python",
   "nbconvert_exporter": "python",
   "pygments_lexer": "ipython3",
   "version": "3.8.10"
  },
  "varInspector": {
   "cols": {
    "lenName": 16,
    "lenType": 16,
    "lenVar": 40
   },
   "kernels_config": {
    "python": {
     "delete_cmd_postfix": "",
     "delete_cmd_prefix": "del ",
     "library": "var_list.py",
     "varRefreshCmd": "print(var_dic_list())"
    },
    "r": {
     "delete_cmd_postfix": ") ",
     "delete_cmd_prefix": "rm(",
     "library": "var_list.r",
     "varRefreshCmd": "cat(var_dic_list()) "
    }
   },
   "types_to_exclude": [
    "module",
    "function",
    "builtin_function_or_method",
    "instance",
    "_Feature"
   ],
   "window_display": false
  }
 },
 "nbformat": 4,
 "nbformat_minor": 4
}
