{
 "cells": [
  {
   "cell_type": "code",
   "execution_count": 1,
   "metadata": {},
   "outputs": [
    {
     "data": {
      "text/html": [
       "<style>.container { width:100% !important; }</style>"
      ],
      "text/plain": [
       "<IPython.core.display.HTML object>"
      ]
     },
     "metadata": {},
     "output_type": "display_data"
    }
   ],
   "source": [
    "%matplotlib inline\n",
    "%run 'bin/notebook_utils.py'\n",
    "import matplotlib.ticker as mticker\n",
    "import radical.entk as re"
   ]
  },
  {
   "cell_type": "code",
   "execution_count": 2,
   "metadata": {},
   "outputs": [],
   "source": [
    "sdir = '../data/raw/'\n",
    "sids = ['re.session.login5.lei.018358.0000']"
   ]
  },
  {
   "cell_type": "code",
   "execution_count": 3,
   "metadata": {},
   "outputs": [
    {
     "name": "stdout",
     "output_type": "stream",
     "text": [
      "session loaded\n",
      "session loaded\n",
      "session loaded\n",
      "session loaded\n",
      "session loaded\n"
     ]
    }
   ],
   "source": [
    "s = ra.Session(sdir+sids[0], 'radical.pilot')\n",
    "p = s.filter(etype='pilot', inplace=False)\n",
    "u = s.filter(etype='unit', inplace=False)\n",
    "t = s.filter(etype='task', inplace=False)\n",
    "w = s.filter(etype='pipeline', inplace=False)"
   ]
  },
  {
   "cell_type": "markdown",
   "metadata": {},
   "source": [
    "# Counters"
   ]
  },
  {
   "cell_type": "code",
   "execution_count": 4,
   "metadata": {},
   "outputs": [],
   "source": [
    "# name of the session\n",
    "sid = s._sid\n",
    "\n",
    "# name of the resources to which batch jobs have been submitted\n",
    "pid = p.list('uid')\n",
    "presource = p.get(uid=pid)[0].description['resource']\n",
    "\n",
    "# Number of batch jobs submitted\n",
    "npilot = len(p.get())\n",
    "\n",
    "# List of batch jobs ID as seen by RADICAL-Cybertools\n",
    "p_ids = p.get()\n",
    "\n",
    "# Number of batch jobs that become active\n",
    "npilot_active = len(p.timestamps(state='PMGR_ACTIVE'))\n",
    "\n",
    "# Number of hardware threads of a specific batch job (the first one of the list above)\n",
    "ncores = p.get(uid=pid)[0].description['cores']\n",
    "\n",
    "# Number of gpus of a specific batch job (the first one of the list above)\n",
    "ngpus = p.get(uid=pid)[0].description['gpus']\n",
    "\n",
    "# Number of tasks executed\n",
    "nunit = len(u.get())\n",
    "\n",
    "# Number of tasks successfully executed\n",
    "nunit_done    = len(u.timestamps(state='DONE'))\n",
    "\n",
    "# Number of failed tasks\n",
    "nunit_failed  = len(u.timestamps(state='FAILED'))\n",
    "\n",
    "# ncore_active  = None     # #active cores\n",
    "# punit =     # #units executed"
   ]
  },
  {
   "cell_type": "code",
   "execution_count": 5,
   "metadata": {},
   "outputs": [
    {
     "name": "stdout",
     "output_type": "stream",
     "text": [
      "Number of requested cores: 2688\n",
      "Number of requested GPUs: 384\n",
      "Number of nodes asked by ENTK: 64\n",
      "Number of tasks executed by EnTK: 1\n",
      "Number of tasks successfully executed by EnTK: 0\n",
      "Number of failed tasks: 1\n"
     ]
    }
   ],
   "source": [
    "print('Number of requested cores: %i' % (ncores/4))\n",
    "print('Number of requested GPUs: %s' % ngpus)\n",
    "print('Number of nodes asked by ENTK: %i' % (ncores/168))\n",
    "print('Number of tasks executed by EnTK: %i' % nunit)\n",
    "print('Number of tasks successfully executed by EnTK: %i' % nunit_done)\n",
    "print('Number of failed tasks: %i' % nunit_failed)"
   ]
  },
  {
   "cell_type": "markdown",
   "metadata": {},
   "source": [
    "# Durations"
   ]
  },
  {
   "cell_type": "code",
   "execution_count": 6,
   "metadata": {},
   "outputs": [],
   "source": [
    "p0 = p.get(uid=pid)[0]\n",
    "\n",
    "# total executon time of the workflow\n",
    "ttc   = p0.duration(event=[{ru.EVENT: 'state', ru.STATE: rp.NEW},\n",
    "                           {ru.EVENT: 'state', ru.STATE: rp.DONE}])\n",
    "\n",
    "# time spent in the queue by the first batch job submitted\n",
    "ttq_p = p0.duration(event=[{ru.EVENT: 'state', ru.STATE: rp.PMGR_ACTIVE_PENDING},\n",
    "                           {ru.EVENT: 'state', ru.STATE: rp.PMGR_ACTIVE}])\n",
    "\n",
    "# time taken by EnTK to execute all the workflow\n",
    "ttx_w =  w.duration(event=[{ru.EVENT: 'state', ru.STATE: re.states.SCHEDULING},\n",
    "                           {ru.EVENT: 'state', ru.STATE: re.states.DONE}])\n",
    "\n",
    "# total time spent executing user's tasks\n",
    "ttx_u =  u.duration(event=[{ru.EVENT: 'cu_exec_start', ru.STATE: None },\n",
    "                           {ru.EVENT: 'cu_exec_stop' , ru.STATE: None}])\n",
    "\n",
    "\n",
    "# execution time of the first batch job executed\n",
    "ttx_p = p0.duration(event=[{ru.EVENT: 'state', ru.STATE: rp.PMGR_ACTIVE},\n",
    "                           [{ru.EVENT: 'state', ru.STATE: rp.DONE},\n",
    "                           {ru.EVENT: 'state', ru.STATE: rp.FAILED},\n",
    "                           {ru.EVENT: 'state', ru.STATE: rp.CANCELED}]])\n",
    "\n",
    "# time taken by EnTK to submit all tasks\n",
    "sub_t =  t.duration(event=[{ru.EVENT: 'state', ru.STATE: re.states.SCHEDULING},\n",
    "                           {ru.EVENT: 'state', ru.STATE: re.states.SUBMITTING}])\n",
    "\n",
    "# time taken by EnTK to execute all tasks\n",
    "ttx_t =  t.duration(event=[{ru.EVENT: 'state', ru.STATE: re.states.SUBMITTING},\n",
    "                           [{ru.EVENT: 'state', ru.STATE: re.states.COMPLETED},\n",
    "                            {ru.EVENT: 'state', ru.STATE: re.states.CANCELED},\n",
    "                            {ru.EVENT: 'state', ru.STATE: re.states.FAILED}]])"
   ]
  },
  {
   "cell_type": "code",
   "execution_count": 7,
   "metadata": {},
   "outputs": [
    {
     "name": "stdout",
     "output_type": "stream",
     "text": [
      "Application execution time: 8658\n",
      "Queue time: 8364\n",
      "Tasks execution time: 68\n"
     ]
    }
   ],
   "source": [
    "print('Application execution time: %i' % ttc)\n",
    "print('Queue time: %i' % ttq_p)\n",
    "print('Tasks execution time: %i' % ttx_u)"
   ]
  },
  {
   "cell_type": "markdown",
   "metadata": {},
   "source": [
    "# Overheads"
   ]
  },
  {
   "cell_type": "code",
   "execution_count": 8,
   "metadata": {},
   "outputs": [],
   "source": [
    "# radical overheads\n",
    "ovh_rtc = ttx_w-ttx_u"
   ]
  },
  {
   "cell_type": "code",
   "execution_count": 9,
   "metadata": {},
   "outputs": [
    {
     "name": "stdout",
     "output_type": "stream",
     "text": [
      "RADICAL-Cybertools overhead: 34\n"
     ]
    }
   ],
   "source": [
    "print('RADICAL-Cybertools overhead: %i' % ovh_rtc)"
   ]
  },
  {
   "cell_type": "markdown",
   "metadata": {},
   "source": [
    "# Plots"
   ]
  },
  {
   "cell_type": "code",
   "execution_count": 10,
   "metadata": {},
   "outputs": [
    {
     "data": {
      "image/png": "[encoded data removed]",
      "text/plain": [
       "<Figure size 936x288 with 1 Axes>"
      ]
     },
     "metadata": {},
     "output_type": "display_data"
    }
   ],
   "source": [
    "fig, ax = fig_setup(figsize=(13,4))\n",
    "\n",
    "ax.bar(x = 'TTC', height = ttc,     color = tableau20[1])\n",
    "ax.bar(x = 'TTQ', height = ttq_p,   color = tableau20[3])\n",
    "ax.bar(x = 'OVH', height = ovh_rtc, color = tableau20[5])\n",
    "ax.bar(x = 'TTX', height = ttx_u,   color = tableau20[7])\n",
    "\n",
    "ax.legend(('Application execution time', 'Queue time', 'RCT overheads', 'Tasks execution time'), loc='upper right', shadow=True)\n",
    "ax.set_xlabel('Metric')\n",
    "ax.set_ylabel('Time (s)')\n",
    "ax.set_yscale('log')"
   ]
  },
  {
   "cell_type": "code",
   "execution_count": null,
   "metadata": {},
   "outputs": [],
   "source": []
  }
 ],
 "metadata": {
  "hide_input": false,
  "kernelspec": {
   "display_name": "Python 3",
   "language": "python",
   "name": "python3"
  },
  "language_info": {
   "codemirror_mode": {
    "name": "ipython",
    "version": 3
   },
   "file_extension": ".py",
   "mimetype": "text/x-python",
   "name": "python",
   "nbconvert_exporter": "python",
   "pygments_lexer": "ipython3",
   "version": "3.7.7"
  },
  "varInspector": {
   "cols": {
    "lenName": 16,
    "lenType": 16,
    "lenVar": 40
   },
   "kernels_config": {
    "python": {
     "delete_cmd_postfix": "",
     "delete_cmd_prefix": "del ",
     "library": "var_list.py",
     "varRefreshCmd": "print(var_dic_list())"
    },
    "r": {
     "delete_cmd_postfix": ") ",
     "delete_cmd_prefix": "rm(",
     "library": "var_list.r",
     "varRefreshCmd": "cat(var_dic_list()) "
    }
   },
   "types_to_exclude": [
    "module",
    "function",
    "builtin_function_or_method",
    "instance",
    "_Feature"
   ],
   "window_display": false
  }
 },
 "nbformat": 4,
 "nbformat_minor": 4
}
