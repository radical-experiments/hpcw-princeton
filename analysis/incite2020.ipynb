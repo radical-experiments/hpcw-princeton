{
 "cells": [
  {
   "cell_type": "code",
   "execution_count": 1,
   "metadata": {
    "ExecuteTime": {
     "end_time": "2020-06-03T19:58:34.628262Z",
     "start_time": "2020-06-03T19:58:33.469619Z"
    }
   },
   "outputs": [
    {
     "data": {
      "text/html": [
       "<style>.container { width:100% !important; }</style>"
      ],
      "text/plain": [
       "<IPython.core.display.HTML object>"
      ]
     },
     "metadata": {},
     "output_type": "display_data"
    }
   ],
   "source": [
    "%matplotlib inline\n",
    "%run 'bin/notebook_utils.py'\n",
    "%run 'bin/plot_utilization.py'\n",
    "import matplotlib.ticker as mticker\n",
    "import radical.entk as re"
   ]
  },
  {
   "cell_type": "code",
   "execution_count": 2,
   "metadata": {
    "ExecuteTime": {
     "end_time": "2020-06-03T19:58:34.636734Z",
     "start_time": "2020-06-03T19:58:34.630482Z"
    }
   },
   "outputs": [],
   "source": [
    "metrics_default = [\n",
    "\n",
    "        # pilot overheads (global)\n",
    "        ['Pilot Startup',     ['boot', 'setup_1']],\n",
    "        ['Pilot Termination', ['term' ]],\n",
    "\n",
    "        # derived pilot durations\n",
    "        ['Agent Nodes',       ['agent']],\n",
    "        ['Warmup',            ['warm' ]],\n",
    "        ['Draining',          ['drain']],\n",
    "        ['Idle',              ['idle' ]],\n",
    "\n",
    "        # unit durations (PRTE)\n",
    "        ['Prepare Exec',      ['exec_queue', 'exec_prep']],\n",
    "        ['Exec RP',           ['exec_rp', 'exec_sh', 'term_sh', 'term_rp']],\n",
    "        ['Exec Cmd',          ['exec_cmd']],\n",
    "        ['Unschedule',        ['unschedule']],\n",
    "]"
   ]
  },
  {
   "cell_type": "code",
   "execution_count": 13,
   "metadata": {
    "ExecuteTime": {
     "end_time": "2020-06-03T20:04:44.216195Z",
     "start_time": "2020-06-03T20:04:44.212855Z"
    }
   },
   "outputs": [],
   "source": [
    "suds = ['re.session.login4.lei.018394.0005',\n",
    "        're.session.login5.lei.018411.0002',\n",
    "        're.session.login4.lei.018394.0006',\n",
    "        're.session.login5.lei.018411.0003']\n",
    "sdir = '../data/raw/'\n",
    "sids = [sdir+s for s in suds]"
   ]
  },
  {
   "cell_type": "code",
   "execution_count": 14,
   "metadata": {
    "ExecuteTime": {
     "end_time": "2020-06-03T20:05:37.910950Z",
     "start_time": "2020-06-03T20:04:45.146543Z"
    }
   },
   "outputs": [
    {
     "name": "stdout",
     "output_type": "stream",
     "text": [
      "WARNING: profile \"../data/raw/re.session.login4.lei.018394.0005/cmgr.0002.prof\" not correctly closed.\n",
      "WARNING: profile \"../data/raw/re.session.login4.lei.018394.0005/cmgr.0002.prof\" not correctly closed.\n",
      "WARNING: profile \"../data/raw/re.session.login4.lei.018394.0005/cmgr.0002.prof\" not correctly closed.\n",
      "WARNING: profile \"../data/raw/re.session.login4.lei.018394.0005/cmgr.0002.prof\" not correctly closed.\n",
      "WARNING: profile \"../data/raw/re.session.login4.lei.018394.0005/cmgr.0002.prof\" not correctly closed.\n",
      "WARNING: profile \"../data/raw/re.session.login5.lei.018411.0002/cmgr.0002.prof\" not correctly closed.\n",
      "WARNING: profile \"../data/raw/re.session.login5.lei.018411.0002/cmgr.0002.prof\" not correctly closed.\n",
      "WARNING: profile \"../data/raw/re.session.login5.lei.018411.0002/cmgr.0002.prof\" not correctly closed.\n",
      "WARNING: profile \"../data/raw/re.session.login5.lei.018411.0002/cmgr.0002.prof\" not correctly closed.\n",
      "WARNING: profile \"../data/raw/re.session.login5.lei.018411.0002/cmgr.0002.prof\" not correctly closed.\n",
      "WARNING: profile \"../data/raw/re.session.login4.lei.018394.0006/cmgr.0002.prof\" not correctly closed.\n",
      "WARNING: profile \"../data/raw/re.session.login4.lei.018394.0006/umgr_unschedule_pubsub.prof\" not correctly closed.\n",
      "WARNING: profile \"../data/raw/re.session.login4.lei.018394.0006/umgr_staging_input_queue.prof\" not correctly closed.\n",
      "WARNING: profile \"../data/raw/re.session.login4.lei.018394.0006/cmgr.0002.prof\" not correctly closed.\n",
      "WARNING: profile \"../data/raw/re.session.login4.lei.018394.0006/umgr_unschedule_pubsub.prof\" not correctly closed.\n",
      "WARNING: profile \"../data/raw/re.session.login4.lei.018394.0006/umgr_staging_input_queue.prof\" not correctly closed.\n",
      "WARNING: profile \"../data/raw/re.session.login4.lei.018394.0006/cmgr.0002.prof\" not correctly closed.\n",
      "WARNING: profile \"../data/raw/re.session.login4.lei.018394.0006/umgr_unschedule_pubsub.prof\" not correctly closed.\n",
      "WARNING: profile \"../data/raw/re.session.login4.lei.018394.0006/umgr_staging_input_queue.prof\" not correctly closed.\n",
      "WARNING: profile \"../data/raw/re.session.login4.lei.018394.0006/cmgr.0002.prof\" not correctly closed.\n",
      "WARNING: profile \"../data/raw/re.session.login4.lei.018394.0006/umgr_unschedule_pubsub.prof\" not correctly closed.\n",
      "WARNING: profile \"../data/raw/re.session.login4.lei.018394.0006/umgr_staging_input_queue.prof\" not correctly closed.\n",
      "WARNING: profile \"../data/raw/re.session.login4.lei.018394.0006/cmgr.0002.prof\" not correctly closed.\n",
      "WARNING: profile \"../data/raw/re.session.login4.lei.018394.0006/umgr_unschedule_pubsub.prof\" not correctly closed.\n",
      "WARNING: profile \"../data/raw/re.session.login4.lei.018394.0006/umgr_staging_input_queue.prof\" not correctly closed.\n",
      "WARNING: profile \"../data/raw/re.session.login5.lei.018411.0003/cmgr.0002.prof\" not correctly closed.\n",
      "WARNING: profile \"../data/raw/re.session.login5.lei.018411.0003/cmgr.0002.prof\" not correctly closed.\n",
      "WARNING: profile \"../data/raw/re.session.login5.lei.018411.0003/cmgr.0002.prof\" not correctly closed.\n",
      "WARNING: profile \"../data/raw/re.session.login5.lei.018411.0003/cmgr.0002.prof\" not correctly closed.\n",
      "WARNING: profile \"../data/raw/re.session.login5.lei.018411.0003/cmgr.0002.prof\" not correctly closed.\n"
     ]
    }
   ],
   "source": [
    "ss = {}\n",
    "for sid in suds:\n",
    "    sp = sdir+sid\n",
    "    ss[sid] = {'s': ra.Session(sp, 'radical.pilot')}\n",
    "    ss[sid].update({'p': ss[sid]['s'].filter(etype='pilot'   , inplace=False),\n",
    "                    'u': ss[sid]['s'].filter(etype='unit'    , inplace=False),\n",
    "                    't': ss[sid]['s'].filter(etype='task'    , inplace=False),\n",
    "                    'w': ss[sid]['s'].filter(etype='pipeline', inplace=False)})"
   ]
  },
  {
   "cell_type": "code",
   "execution_count": 15,
   "metadata": {
    "ExecuteTime": {
     "end_time": "2020-06-03T20:06:15.778858Z",
     "start_time": "2020-06-03T20:06:15.765950Z"
    }
   },
   "outputs": [],
   "source": [
    "for sid in suds:\n",
    "    ss[sid].update({'sid'   : ss[sid]['s'].uid,\n",
    "                    'pid'   : ss[sid]['p'].list('uid'),\n",
    "                    'npilot': len(ss[sid]['p'].get()),\n",
    "                    'lm'    : ss[sid]['s'].get(etype='pilot')[0].cfg['agent_launch_method'],\n",
    "                    'npact' : len(ss[sid]['p'].timestamps(state='PMGR_ACTIVE')),\n",
    "                    'nunit' : len(ss[sid]['u'].get()),\n",
    "                    'nudone': len(ss[sid]['u'].timestamps(state='DONE')),\n",
    "                    'nufail': len(ss[sid]['u'].timestamps(state='FAILED'))})\n",
    "    ss[sid].update({'pres'  : ss[sid]['p'].get(uid=ss[sid]['pid'])[0].description['resource'],\n",
    "                    'ncores': ss[sid]['p'].get(uid=ss[sid]['pid'])[0].description['cores'],\n",
    "                    'ngpus' : ss[sid]['p'].get(uid=ss[sid]['pid'])[0].description['gpus']})                  \n",
    "    ss[sid].update({'nnodes': ss[sid]['ngpus']/6})"
   ]
  },
  {
   "cell_type": "code",
   "execution_count": 16,
   "metadata": {
    "ExecuteTime": {
     "end_time": "2020-06-03T20:06:16.581916Z",
     "start_time": "2020-06-03T20:06:16.575771Z"
    }
   },
   "outputs": [
    {
     "name": "stdout",
     "output_type": "stream",
     "text": [
      "\n",
      "re.session.login4.lei.018394.0005:\n",
      "\tName of the HPC platform: ornl.summit\n",
      "\tPilot launch method: JSRUN\n",
      "\tNumber of pilots requested: 1\n",
      "\tNumber of pilots active: 1\n",
      "\tNumber of requested cores: 210\n",
      "\tNumber of requested GPUs: 30\n",
      "\tNumber of requested nodes: 5.0\n",
      "\tNumber of nodes asked by ENTK: 5\n",
      "\tNumber of tasks executed by EnTK: 10\n",
      "\tNumber of tasks successfully executed by EnTK: 10\n",
      "\tNumber of failed tasks: 0\n",
      "\n",
      "\n",
      "re.session.login5.lei.018411.0002:\n",
      "\tName of the HPC platform: ornl.summit\n",
      "\tPilot launch method: JSRUN\n",
      "\tNumber of pilots requested: 1\n",
      "\tNumber of pilots active: 1\n",
      "\tNumber of requested cores: 13440\n",
      "\tNumber of requested GPUs: 1920\n",
      "\tNumber of requested nodes: 320.0\n",
      "\tNumber of nodes asked by ENTK: 320\n",
      "\tNumber of tasks executed by EnTK: 100\n",
      "\tNumber of tasks successfully executed by EnTK: 100\n",
      "\tNumber of failed tasks: 0\n",
      "\n",
      "\n",
      "re.session.login4.lei.018394.0006:\n",
      "\tName of the HPC platform: ornl.summit\n",
      "\tPilot launch method: JSRUN\n",
      "\tNumber of pilots requested: 1\n",
      "\tNumber of pilots active: 1\n",
      "\tNumber of requested cores: 26880\n",
      "\tNumber of requested GPUs: 3840\n",
      "\tNumber of requested nodes: 640.0\n",
      "\tNumber of nodes asked by ENTK: 640\n",
      "\tNumber of tasks executed by EnTK: 100\n",
      "\tNumber of tasks successfully executed by EnTK: 100\n",
      "\tNumber of failed tasks: 0\n",
      "\n",
      "\n",
      "re.session.login5.lei.018411.0003:\n",
      "\tName of the HPC platform: ornl.summit\n",
      "\tPilot launch method: JSRUN\n",
      "\tNumber of pilots requested: 1\n",
      "\tNumber of pilots active: 1\n",
      "\tNumber of requested cores: 53760\n",
      "\tNumber of requested GPUs: 7680\n",
      "\tNumber of requested nodes: 1280.0\n",
      "\tNumber of nodes asked by ENTK: 1280\n",
      "\tNumber of tasks executed by EnTK: 100\n",
      "\tNumber of tasks successfully executed by EnTK: 100\n",
      "\tNumber of failed tasks: 0\n",
      "\n"
     ]
    }
   ],
   "source": [
    "for sid in suds:\n",
    "    print(\"\"\"\n",
    "%s:\n",
    "\\tName of the HPC platform: %s\n",
    "\\tPilot launch method: %s\n",
    "\\tNumber of pilots requested: %i\n",
    "\\tNumber of pilots active: %i\n",
    "\\tNumber of requested cores: %i\n",
    "\\tNumber of requested GPUs: %s\n",
    "\\tNumber of requested nodes: %s\n",
    "\\tNumber of nodes asked by ENTK: %i\n",
    "\\tNumber of tasks executed by EnTK: %i\n",
    "\\tNumber of tasks successfully executed by EnTK: %i\n",
    "\\tNumber of failed tasks: %i\n",
    "\"\"\" % (sid              , ss[sid]['pres']  , ss[sid]['lm'], \n",
    "       ss[sid]['npilot'], ss[sid]['npact'] , ss[sid]['ncores']/4, \n",
    "       ss[sid]['ngpus'] , ss[sid]['nnodes'], ss[sid]['ncores']/168, \n",
    "       ss[sid]['nunit'] , ss[sid]['nudone'], ss[sid]['nufail']))"
   ]
  },
  {
   "cell_type": "code",
   "execution_count": 17,
   "metadata": {
    "ExecuteTime": {
     "end_time": "2020-06-03T20:06:25.042062Z",
     "start_time": "2020-06-03T20:06:24.721380Z"
    }
   },
   "outputs": [],
   "source": [
    "for sid in suds:\n",
    "    w  = ss[sid]['w']\n",
    "    u  = ss[sid]['u']\n",
    "    t  = ss[sid]['t']\n",
    "    p  = ss[sid]['p']\n",
    "    p0 = p.get(uid=ss[sid]['pid'])[0]\n",
    "\n",
    "    ss[sid].update({\n",
    "      'ttc'  : p0.duration(event=[ {ru.EVENT: 'state'        , ru.STATE: rp.NEW                }, \n",
    "                                   {ru.EVENT: 'state'        , ru.STATE: rp.DONE               } ]),\n",
    "      'ttq_p': p0.duration(event=[ {ru.EVENT: 'state'        , ru.STATE: rp.PMGR_ACTIVE_PENDING}, \n",
    "                                   {ru.EVENT: 'state'        , ru.STATE: rp.PMGR_ACTIVE        } ]),\n",
    "      'ttx_w': w.duration( event=[ {ru.EVENT: 'state'        , ru.STATE: re.states.SCHEDULING  },\n",
    "                                   {ru.EVENT: 'state'        , ru.STATE: re.states.DONE        } ]),\n",
    "      'ttx_u': u.duration( event=[ {ru.EVENT: 'cu_exec_start', ru.STATE: None                  },      \n",
    "                                   {ru.EVENT: 'cu_exec_stop' , ru.STATE: None                  } ]),\n",
    "      'ttx_p': p0.duration(event=[ {ru.EVENT: 'state'        , ru.STATE: rp.PMGR_ACTIVE        },\n",
    "                                  [{ru.EVENT: 'state'        , ru.STATE: rp.DONE               },\n",
    "                                   {ru.EVENT: 'state'        , ru.STATE: rp.FAILED             },\n",
    "                                   {ru.EVENT: 'state'        , ru.STATE: rp.CANCELED           }]]),\n",
    "      'sub_t': t.duration( event=[ {ru.EVENT: 'state'        , ru.STATE: re.states.SCHEDULING  },\n",
    "                                   {ru.EVENT: 'state'        , ru.STATE: re.states.SUBMITTING  } ]),\n",
    "      'ttx_t': t.duration( event=[ {ru.EVENT: 'state'        , ru.STATE: re.states.SUBMITTING  },\n",
    "                                  [{ru.EVENT: 'state'        , ru.STATE: re.states.COMPLETED   },\n",
    "                                   {ru.EVENT: 'state'        , ru.STATE: re.states.CANCELED    },\n",
    "                                   {ru.EVENT: 'state'        , ru.STATE: re.states.FAILED      }]])})\n",
    "    \n",
    "    ss[sid].update({'ovh_rtc': ss[sid]['ttx_w'] - ss[sid]['ttx_u']})"
   ]
  },
  {
   "cell_type": "code",
   "execution_count": 18,
   "metadata": {
    "ExecuteTime": {
     "end_time": "2020-06-03T20:06:28.940243Z",
     "start_time": "2020-06-03T20:06:25.755817Z"
    }
   },
   "outputs": [
    {
     "data": {
      "image/png": "[encoded data removed]",
      "text/plain": [
       "<Figure size 1296x288 with 4 Axes>"
      ]
     },
     "metadata": {},
     "output_type": "display_data"
    }
   ],
   "source": [
    "fwidth = 18\n",
    "fhight = 4\n",
    "fig, axarr = plt.subplots(1, len(suds), sharey=True, figsize=(fwidth, fhight))\n",
    "\n",
    "i = 0\n",
    "j = 'a'\n",
    "for sid in suds:\n",
    "    \n",
    "    ax = axarr[i]\n",
    "    ax.title.set_text('%s/%s Tasks/Nodes' % (ss[sid]['nunit'], int(ss[sid]['nnodes'])))\n",
    "\n",
    "    ax.bar(x = 'OVH', height = ss[sid]['ovh_rtc'], color = tableau20[1])\n",
    "    ax.bar(x = 'TTX', height = ss[sid]['ttx_u']  , color = tableau20[3])\n",
    "    \n",
    "    ax.set_xlabel('(%s)' % j, labelpad=45)\n",
    "    \n",
    "    i = i+1\n",
    "    j = chr(ord(j) + 1)\n",
    "\n",
    "fig.text(0   ,  0.5 , 'Time (s)', va='center', rotation='vertical', fontsize=24)\n",
    "fig.text(0.5 , -0.05, 'Metric'  , ha='center', fontsize=24)\n",
    "fig.legend(['RADICAL Cybertools overhead (OVH)', 'Wokflow time to completion (TTX)'], loc='upper center', \n",
    "           bbox_to_anchor=(0.52, 1.6), fontsize=26, ncol=1)\n",
    "    \n",
    "plt.savefig('figures/incite2020_ovh_ttx_jsrun.pdf', dpi=300, bbox_inches='tight')\n",
    "plt.savefig('figures/incite2020_ovh_ttx_jsrun.png', dpi=300, bbox_inches='tight')"
   ]
  },
  {
   "cell_type": "code",
   "execution_count": 19,
   "metadata": {
    "ExecuteTime": {
     "end_time": "2020-06-03T20:07:03.849145Z",
     "start_time": "2020-06-03T20:07:00.408591Z"
    }
   },
   "outputs": [],
   "source": [
    "# get utilization information\n",
    "# FIXME: remove bogus session\n",
    "suds = ['re.session.login4.lei.018394.0005',\n",
    "        're.session.login4.lei.018394.0006',\n",
    "        're.session.login5.lei.018411.0002']\n",
    "sids = [sdir+s for s in suds]\n",
    "\n",
    "sobjs = ra.Experiment(sids, stype='radical.pilot')\n",
    "provided, consumed, stats_abs, stats_rel, info = sobjs.utilization(metrics=metrics_default)"
   ]
  },
  {
   "cell_type": "code",
   "execution_count": 20,
   "metadata": {
    "ExecuteTime": {
     "end_time": "2020-06-03T20:07:05.282606Z",
     "start_time": "2020-06-03T20:07:05.222565Z"
    }
   },
   "outputs": [],
   "source": [
    "# x-axis labels\n",
    "xkeys = list()\n",
    "\n",
    "# get the numbers we actually want to plot\n",
    "for session in sobjs.sessions:\n",
    "\n",
    "    n_units = len(session.get(etype='unit'))\n",
    "    \n",
    "    p_size = 0\n",
    "    for pilot in session.get(etype='pilot'):\n",
    "        p_size += pilot.description['cores']\n",
    "\n",
    "    xkeys.append('%s / %s' % (n_units, p_size))"
   ]
  },
  {
   "cell_type": "code",
   "execution_count": 21,
   "metadata": {
    "ExecuteTime": {
     "end_time": "2020-06-03T20:07:06.765627Z",
     "start_time": "2020-06-03T20:07:06.762781Z"
    }
   },
   "outputs": [],
   "source": [
    "def update_ticks(x, pos):\n",
    "    return int(x/4)"
   ]
  },
  {
   "cell_type": "code",
   "execution_count": 22,
   "metadata": {
    "ExecuteTime": {
     "end_time": "2020-06-03T20:16:52.606629Z",
     "start_time": "2020-06-03T20:07:07.948690Z"
    }
   },
   "outputs": [
    {
     "data": {
      "image/png": "[encoded data removed]",
      "text/plain": [
       "<Figure size 2592x288 with 3 Axes>"
      ]
     },
     "metadata": {},
     "output_type": "display_data"
    }
   ],
   "source": [
    "# core/gpu utilization over time (box plot)\n",
    "\n",
    "fwidth = 36\n",
    "fhight = 4\n",
    "fig, axarr = plt.subplots(1, len(suds), sharex='col', figsize=(fwidth, fhight))  # , sharey='row')\n",
    "\n",
    "i = 0\n",
    "j = 'a'\n",
    "for sid in suds:\n",
    "\n",
    "    ax = axarr[i]\n",
    "    cmap = mpl.cm.get_cmap('tab20c')\n",
    "\n",
    "    step = 1.0 / (len(metrics_default) + 1)\n",
    "    this = step / 1.0\n",
    "    legend = list()\n",
    "\n",
    "    x_min = None\n",
    "    x_max = None\n",
    "    y_min = None\n",
    "    y_max = None\n",
    "    \n",
    "    ax.title.set_text('%s/%s Tasks/Nodes' % (ss[sid]['nunit'], int(ss[sid]['nnodes'])))\n",
    "\n",
    "    for metric in metrics_default:\n",
    "\n",
    "        color = cmap(this)\n",
    "        this += step\n",
    "\n",
    "        legend.append(mpl.lines.Line2D([0], [0], color=color, lw=6))\n",
    "\n",
    "        if isinstance(metric, list):\n",
    "            name = metric[0]\n",
    "            parts = metric[1]\n",
    "        else:\n",
    "            name = metric\n",
    "            parts = [metric]\n",
    "\n",
    "        for part in parts:\n",
    "            for uid in consumed[sid][part]:\n",
    "                for block in consumed[sid][part][uid]:\n",
    "                    orig_x = block[0]\n",
    "                    orig_y = block[2] - 0.5\n",
    "                    width = block[1] - block[0]\n",
    "                    height = block[3] - block[2] + 1.0\n",
    "\n",
    "                    if x_min is None:\n",
    "                        x_min = orig_x\n",
    "                    if x_max is None:\n",
    "                        x_max = orig_x + width\n",
    "                    if y_min is None:\n",
    "                        y_min = orig_x\n",
    "                    if y_max is None:\n",
    "                        y_max = orig_x + height\n",
    "\n",
    "                    x_min = min(x_min, orig_x)\n",
    "                    y_min = min(y_min, orig_y)\n",
    "                    x_max = max(x_max, orig_x + width)\n",
    "                    y_max = max(y_max, orig_y + height)\n",
    "\n",
    "                    patch = mpl.patches.Rectangle((orig_x, orig_y),\n",
    "                                                  width, height,\n",
    "                                                  facecolor=color,\n",
    "                                                  edgecolor='black',\n",
    "                                                  fill=True, lw=0.0)\n",
    "                    ax.add_patch(patch)\n",
    "\n",
    "    ax.set_xlim([x_min, x_max])\n",
    "    ax.set_ylim([y_min, y_max])\n",
    "    \n",
    "    ax.set_xlabel('(%s)' % j, labelpad=45)\n",
    "    ax.yaxis.set_major_formatter(mticker.FuncFormatter(update_ticks))\n",
    "\n",
    "    i = i+1\n",
    "    j = chr(ord(j) + 1)\n",
    "\n",
    "# Add common axes lables\n",
    "fig.text(0.07,  0.5, 'Core ID' , va='center', rotation='vertical', fontsize=24)\n",
    "fig.text(0.5 , -0.1, 'Time (s)', ha='center', fontsize=24)\n",
    "    \n",
    "# Add legend\n",
    "fig.legend(legend, [m[0] for m in metrics_default], loc='upper center', \n",
    "           bbox_to_anchor=(0.45, 1.7), fontsize=26, ncol=4)\n",
    "\n",
    "plt.savefig('figures/incite2020_inversions_jsrun.pdf', dpi=300, bbox_inches='tight')\n",
    "plt.savefig('figures/incite2020_inversions_jsrun.png', dpi=300, bbox_inches='tight')"
   ]
  },
  {
   "cell_type": "code",
   "execution_count": 23,
   "metadata": {
    "ExecuteTime": {
     "end_time": "2020-06-03T20:16:52.613424Z",
     "start_time": "2020-06-03T20:16:52.609361Z"
    }
   },
   "outputs": [
    {
     "name": "stdout",
     "output_type": "stream",
     "text": [
      "re.session.login4.lei.018394.0005 [10]\n",
      "    Pilot Startup       :      25927.312     1.665%      ['boot', 'setup_1']\n",
      "    Pilot Termination   :       6571.864     0.422%      ['term']\n",
      "    Agent Nodes         :          0.000     0.000%   !  ['agent']\n",
      "    Warmup              :       7371.339     0.473%      ['warm']\n",
      "    Draining            :       4599.154     0.295%      ['drain']\n",
      "    Idle                :    1261896.714    81.032%      ['idle']\n",
      "    Prepare Exec        :          4.940     0.000%      ['exec_queue', 'exec_prep']\n",
      "    Exec RP             :       1486.162     0.095%      ['exec_rp', 'exec_sh', 'term_sh', 'term_rp']\n",
      "    Exec Cmd            :     249419.130    16.016%      ['exec_cmd']\n",
      "    Unschedule          :         14.298     0.001%      ['unschedule']\n",
      "    total               :    1557291.039   100.000%      \n",
      "\n",
      "    total               :    1557291.039   100.000%\n",
      "    over                :    1557290.914   100.000%\n",
      "    work                :          0.000     0.000%\n",
      "    miss                :          0.125     0.000%\n",
      "\n",
      "re.session.login4.lei.018394.0006 [100]\n",
      "    Pilot Startup       :    3604460.074     3.210%      ['boot', 'setup_1']\n",
      "    Pilot Termination   :     813591.752     0.725%      ['term']\n",
      "    Agent Nodes         :          0.000     0.000%   !  ['agent']\n",
      "    Warmup              :     870197.281     0.775%      ['warm']\n",
      "    Draining            :    1404427.811     1.251%      ['drain']\n",
      "    Idle                :   89267678.416    79.502%      ['idle']\n",
      "    Prepare Exec        :      14067.323     0.013%      ['exec_queue', 'exec_prep']\n",
      "    Exec RP             :     986257.467     0.878%      ['exec_rp', 'exec_sh', 'term_sh', 'term_rp']\n",
      "    Exec Cmd            :   15293409.125    13.620%      ['exec_cmd']\n",
      "    Unschedule          :      23459.191     0.021%      ['unschedule']\n",
      "    total               :  112283163.245   100.000%      \n",
      "\n",
      "    total               :  112283163.245   100.000%\n",
      "    over                :  112277548.439    99.995%\n",
      "    work                :          0.000     0.000%\n",
      "    miss                :       5614.806     0.005%\n",
      "\n",
      "re.session.login5.lei.018411.0002 [100]\n",
      "    Pilot Startup       :    1662665.408     1.783%      ['boot', 'setup_1']\n",
      "    Pilot Termination   :     317980.155     0.341%      ['term']\n",
      "    Agent Nodes         :          0.000     0.000%   !  ['agent']\n",
      "    Warmup              :     844468.417     0.906%      ['warm']\n",
      "    Draining            :     485757.545     0.521%      ['drain']\n",
      "    Idle                :   75518855.936    81.000%      ['idle']\n",
      "    Prepare Exec        :      11345.997     0.012%      ['exec_queue', 'exec_prep']\n",
      "    Exec RP             :    1106568.714     1.187%      ['exec_rp', 'exec_sh', 'term_sh', 'term_rp']\n",
      "    Exec Cmd            :   13263922.582    14.227%      ['exec_cmd']\n",
      "    Unschedule          :      16998.961     0.018%      ['unschedule']\n",
      "    total               :   93232596.486   100.000%      \n",
      "\n",
      "    total               :   93232596.486   100.000%\n",
      "    over                :   93228563.714    99.996%\n",
      "    work                :          0.000     0.000%\n",
      "    miss                :       4032.772     0.004%\n",
      "\n"
     ]
    }
   ],
   "source": [
    "for sid in suds:\n",
    "    print(info[sid])"
   ]
  }
 ],
 "metadata": {
  "hide_input": false,
  "kernelspec": {
   "display_name": "Python 3",
   "language": "python",
   "name": "python3"
  },
  "language_info": {
   "codemirror_mode": {
    "name": "ipython",
    "version": 3
   },
   "file_extension": ".py",
   "mimetype": "text/x-python",
   "name": "python",
   "nbconvert_exporter": "python",
   "pygments_lexer": "ipython3",
   "version": "3.7.7"
  },
  "varInspector": {
   "cols": {
    "lenName": 16,
    "lenType": 16,
    "lenVar": 40
   },
   "kernels_config": {
    "python": {
     "delete_cmd_postfix": "",
     "delete_cmd_prefix": "del ",
     "library": "var_list.py",
     "varRefreshCmd": "print(var_dic_list())"
    },
    "r": {
     "delete_cmd_postfix": ") ",
     "delete_cmd_prefix": "rm(",
     "library": "var_list.r",
     "varRefreshCmd": "cat(var_dic_list()) "
    }
   },
   "types_to_exclude": [
    "module",
    "function",
    "builtin_function_or_method",
    "instance",
    "_Feature"
   ],
   "window_display": false
  }
 },
 "nbformat": 4,
 "nbformat_minor": 4
}
